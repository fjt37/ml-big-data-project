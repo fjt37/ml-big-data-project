{
 "cells": [
  {
   "cell_type": "code",
   "execution_count": 1,
   "metadata": {},
   "outputs": [
    {
     "name": "stderr",
     "output_type": "stream",
     "text": [
      "\u001b[1m\u001b[36mINFO: \u001b[39m\u001b[22m\u001b[36mPackage DataFrames is already installed\n",
      "\u001b[39m\u001b[1m\u001b[36mINFO: \u001b[39m\u001b[22m\u001b[36mMETADATA is out-of-date — you may not have the latest version of DataFrames\n",
      "\u001b[39m\u001b[1m\u001b[36mINFO: \u001b[39m\u001b[22m\u001b[36mUse `Pkg.update()` to get the latest versions of your packages\n",
      "\u001b[39m"
     ]
    }
   ],
   "source": [
    "Pkg.add(\"DataFrames\")\n",
    "using DataFrames\n",
    "using Plots"
   ]
  },
  {
   "cell_type": "code",
   "execution_count": 88,
   "metadata": {},
   "outputs": [
    {
     "data": {
      "text/html": [
       "<table class=\"data-frame\"><thead><tr><th></th><th>Date</th><th>btc_market_price</th><th>btc_total_bitcoins</th><th>btc_market_cap</th><th>btc_trade_volume</th><th>btc_blocks_size</th><th>btc_avg_block_size</th><th>btc_n_orphaned_blocks</th><th>btc_n_transactions_per_block</th><th>btc_median_confirmation_time</th><th>btc_hash_rate</th><th>btc_difficulty</th><th>btc_miners_revenue</th><th>btc_transaction_fees</th><th>btc_cost_per_transaction_percent</th><th>btc_cost_per_transaction</th><th>btc_n_unique_addresses</th><th>btc_n_transactions</th><th>btc_n_transactions_total</th><th>btc_n_transactions_excluding_popular</th><th>btc_n_transactions_excluding_chains_longer_than_100</th><th>btc_output_volume</th><th>btc_estimated_transaction_volume</th><th>btc_estimated_transaction_volume_usd</th></tr></thead><tbody><tr><th>1</th><td>2009-01-03 00:00:00</td><td>0.0</td><td>50.0</td><td>0.0</td><td>0.0</td><td>0.0</td><td>0.000285</td><td>0.0</td><td>1.0</td><td>0.0</td><td>4.97102696296e-8</td><td>1.0</td><td>0.0</td><td>0.0</td><td>0.0</td><td>0.0</td><td>1.0</td><td>1.0</td><td>1.0</td><td>1.0</td><td>1.0</td><td>50.0</td><td>0.0</td><td>0.0</td></tr><tr><th>2</th><td>2009-01-05 00:00:00</td><td>0.0</td><td>50.0</td><td>0.0</td><td>0.0</td><td>0.0</td><td>0.0</td><td>0.0</td><td>1.0</td><td>0.0</td><td>0.0</td><td>0.0</td><td>0.0</td><td>0.0</td><td>0.0</td><td>0.0</td><td>0.0</td><td>0.0</td><td>1.0</td><td>0.0</td><td>0.0</td><td>0.0</td><td>0.0</td><td>0.0</td></tr><tr><th>3</th><td>2009-01-07 00:00:00</td><td>0.0</td><td>50.0</td><td>0.0</td><td>0.0</td><td>0.0</td><td>0.0</td><td>0.0</td><td>1.0</td><td>0.0</td><td>0.0</td><td>0.0</td><td>0.0</td><td>0.0</td><td>0.0</td><td>0.0</td><td>0.0</td><td>0.0</td><td>1.0</td><td>0.0</td><td>0.0</td><td>0.0</td><td>0.0</td><td>0.0</td></tr><tr><th>4</th><td>2009-01-09 00:00:00</td><td>0.0</td><td>750.0</td><td>0.0</td><td>0.0</td><td>0.0</td><td>0.000215</td><td>0.0</td><td>1.0</td><td>0.0</td><td>6.95943774815e-7</td><td>1.0</td><td>0.0</td><td>0.0</td><td>0.0</td><td>0.0</td><td>14.0</td><td>14.0</td><td>15.0</td><td>14.0</td><td>14.0</td><td>700.0</td><td>0.0</td><td>0.0</td></tr><tr><th>5</th><td>2009-01-11 00:00:00</td><td>0.0</td><td>7600.0</td><td>0.0</td><td>0.0</td><td>0.0</td><td>0.000215386792453</td><td>0.0</td><td>1.0</td><td>0.0</td><td>5.26928858074e-6</td><td>1.0</td><td>0.0</td><td>0.0</td><td>0.0</td><td>0.0</td><td>106.0</td><td>106.0</td><td>152.0</td><td>106.0</td><td>106.0</td><td>5300.0</td><td>0.0</td><td>0.0</td></tr><tr><th>6</th><td>2009-01-13 00:00:00</td><td>0.0</td><td>17800.0</td><td>0.0</td><td>0.0</td><td>0.0</td><td>0.00021807826087</td><td>0.0</td><td>1.0</td><td>0.0</td><td>5.71668100741e-6</td><td>1.0</td><td>0.0</td><td>0.0</td><td>57500.0</td><td>0.0</td><td>117.0</td><td>116.0</td><td>363.0</td><td>116.0</td><td>116.0</td><td>5778.0</td><td>10.0</td><td>0.0</td></tr></tbody></table>"
      ],
      "text/plain": [
       "6×24 DataFrames.DataFrame\n",
       "│ Row │ Date                  │ btc_market_price │ btc_total_bitcoins │\n",
       "├─────┼───────────────────────┼──────────────────┼────────────────────┤\n",
       "│ 1   │ \"2009-01-03 00:00:00\" │ 0.0              │ 50.0               │\n",
       "│ 2   │ \"2009-01-05 00:00:00\" │ 0.0              │ 50.0               │\n",
       "│ 3   │ \"2009-01-07 00:00:00\" │ 0.0              │ 50.0               │\n",
       "│ 4   │ \"2009-01-09 00:00:00\" │ 0.0              │ 750.0              │\n",
       "│ 5   │ \"2009-01-11 00:00:00\" │ 0.0              │ 7600.0             │\n",
       "│ 6   │ \"2009-01-13 00:00:00\" │ 0.0              │ 17800.0            │\n",
       "\n",
       "│ Row │ btc_market_cap │ btc_trade_volume │ btc_blocks_size │\n",
       "├─────┼────────────────┼──────────────────┼─────────────────┤\n",
       "│ 1   │ 0.0            │ 0.0              │ 0.0             │\n",
       "│ 2   │ 0.0            │ 0.0              │ 0.0             │\n",
       "│ 3   │ 0.0            │ 0.0              │ 0.0             │\n",
       "│ 4   │ 0.0            │ 0.0              │ 0.0             │\n",
       "│ 5   │ 0.0            │ 0.0              │ 0.0             │\n",
       "│ 6   │ 0.0            │ 0.0              │ 0.0             │\n",
       "\n",
       "│ Row │ btc_avg_block_size │ btc_n_orphaned_blocks │\n",
       "├─────┼────────────────────┼───────────────────────┤\n",
       "│ 1   │ 0.000285           │ 0.0                   │\n",
       "│ 2   │ 0.0                │ 0.0                   │\n",
       "│ 3   │ 0.0                │ 0.0                   │\n",
       "│ 4   │ 0.000215           │ 0.0                   │\n",
       "│ 5   │ 0.000215387        │ 0.0                   │\n",
       "│ 6   │ 0.000218078        │ 0.0                   │\n",
       "\n",
       "│ Row │ btc_n_transactions_per_block │ btc_median_confirmation_time │\n",
       "├─────┼──────────────────────────────┼──────────────────────────────┤\n",
       "│ 1   │ 1.0                          │ 0.0                          │\n",
       "│ 2   │ 1.0                          │ 0.0                          │\n",
       "│ 3   │ 1.0                          │ 0.0                          │\n",
       "│ 4   │ 1.0                          │ 0.0                          │\n",
       "│ 5   │ 1.0                          │ 0.0                          │\n",
       "│ 6   │ 1.0                          │ 0.0                          │\n",
       "\n",
       "│ Row │ btc_hash_rate │ btc_difficulty │ btc_miners_revenue │\n",
       "├─────┼───────────────┼────────────────┼────────────────────┤\n",
       "│ 1   │ 4.97103e-8    │ 1.0            │ 0.0                │\n",
       "│ 2   │ 0.0           │ 0.0            │ 0.0                │\n",
       "│ 3   │ 0.0           │ 0.0            │ 0.0                │\n",
       "│ 4   │ 6.95944e-7    │ 1.0            │ 0.0                │\n",
       "│ 5   │ 5.26929e-6    │ 1.0            │ 0.0                │\n",
       "│ 6   │ 5.71668e-6    │ 1.0            │ 0.0                │\n",
       "\n",
       "│ Row │ btc_transaction_fees │ btc_cost_per_transaction_percent │\n",
       "├─────┼──────────────────────┼──────────────────────────────────┤\n",
       "│ 1   │ 0.0                  │ 0.0                              │\n",
       "│ 2   │ 0.0                  │ 0.0                              │\n",
       "│ 3   │ 0.0                  │ 0.0                              │\n",
       "│ 4   │ 0.0                  │ 0.0                              │\n",
       "│ 5   │ 0.0                  │ 0.0                              │\n",
       "│ 6   │ 0.0                  │ 57500.0                          │\n",
       "\n",
       "│ Row │ btc_cost_per_transaction │ btc_n_unique_addresses │ btc_n_transactions │\n",
       "├─────┼──────────────────────────┼────────────────────────┼────────────────────┤\n",
       "│ 1   │ 0.0                      │ 1.0                    │ 1.0                │\n",
       "│ 2   │ 0.0                      │ 0.0                    │ 0.0                │\n",
       "│ 3   │ 0.0                      │ 0.0                    │ 0.0                │\n",
       "│ 4   │ 0.0                      │ 14.0                   │ 14.0               │\n",
       "│ 5   │ 0.0                      │ 106.0                  │ 106.0              │\n",
       "│ 6   │ 0.0                      │ 117.0                  │ 116.0              │\n",
       "\n",
       "│ Row │ btc_n_transactions_total │ btc_n_transactions_excluding_popular │\n",
       "├─────┼──────────────────────────┼──────────────────────────────────────┤\n",
       "│ 1   │ 1.0                      │ 1.0                                  │\n",
       "│ 2   │ 1.0                      │ 0.0                                  │\n",
       "│ 3   │ 1.0                      │ 0.0                                  │\n",
       "│ 4   │ 15.0                     │ 14.0                                 │\n",
       "│ 5   │ 152.0                    │ 106.0                                │\n",
       "│ 6   │ 363.0                    │ 116.0                                │\n",
       "\n",
       "│ Row │ btc_n_transactions_excluding_chains_longer_than_100 │\n",
       "├─────┼─────────────────────────────────────────────────────┤\n",
       "│ 1   │ 1.0                                                 │\n",
       "│ 2   │ 0.0                                                 │\n",
       "│ 3   │ 0.0                                                 │\n",
       "│ 4   │ 14.0                                                │\n",
       "│ 5   │ 106.0                                               │\n",
       "│ 6   │ 116.0                                               │\n",
       "\n",
       "│ Row │ btc_output_volume │ btc_estimated_transaction_volume │\n",
       "├─────┼───────────────────┼──────────────────────────────────┤\n",
       "│ 1   │ 50.0              │ 0.0                              │\n",
       "│ 2   │ 0.0               │ 0.0                              │\n",
       "│ 3   │ 0.0               │ 0.0                              │\n",
       "│ 4   │ 700.0             │ 0.0                              │\n",
       "│ 5   │ 5300.0            │ 0.0                              │\n",
       "│ 6   │ 5778.0            │ 10.0                             │\n",
       "\n",
       "│ Row │ btc_estimated_transaction_volume_usd │\n",
       "├─────┼──────────────────────────────────────┤\n",
       "│ 1   │ 0.0                                  │\n",
       "│ 2   │ 0.0                                  │\n",
       "│ 3   │ 0.0                                  │\n",
       "│ 4   │ 0.0                                  │\n",
       "│ 5   │ 0.0                                  │\n",
       "│ 6   │ 0.0                                  │"
      ]
     },
     "execution_count": 88,
     "metadata": {},
     "output_type": "execute_result"
    }
   ],
   "source": [
    "cd(\"../project_data\")\n",
    "data = readtable(\"bitcoin_dataset.csv\");\n",
    "head(data)"
   ]
  },
  {
   "cell_type": "code",
   "execution_count": 89,
   "metadata": {
    "collapsed": true
   },
   "outputs": [],
   "source": [
    "price = data[:, :btc_market_price].data;\n",
    "price² = price.^2;\n",
    "volume = data[:, :btc_trade_volume].data;\n",
    "date = data[:, :Date].data\n",
    "norm_price = normalize(price);\n",
    "norm_price² = normalize(price²);\n",
    "norm_volume = normalize(volume);"
   ]
  },
  {
   "cell_type": "code",
   "execution_count": 90,
   "metadata": {},
   "outputs": [
    {
     "name": "stderr",
     "output_type": "stream",
     "text": [
      "\u001b[1m\u001b[33mWARNING: \u001b[39m\u001b[22m\u001b[33mreplacing docs for 'historical :: Tuple{Any,Any}' in module 'Main'.\u001b[39m\n"
     ]
    },
    {
     "data": {
      "text/plain": [
       "historical"
      ]
     },
     "execution_count": 90,
     "metadata": {},
     "output_type": "execute_result"
    }
   ],
   "source": [
    "\"return a matrix where each column is the feature delayed by one more day, \n",
    "    from one day up to `days` days\"\n",
    "function historical(feature, days)\n",
    "    return [feature[i + day] for i in 1:(length(feature) - days), day in 0:(days - 1)]\n",
    "end"
   ]
  },
  {
   "cell_type": "code",
   "execution_count": 113,
   "metadata": {},
   "outputs": [],
   "source": [
    "days = 20\n",
    "X_price = [historical(norm_price, days) historical(norm_price², days)]\n",
    "X_both = [historical(norm_price, days) historical(norm_volume, days)]\n",
    "X_all = [historical(norm_price, days) historical(norm_price², days) historical(norm_volume, days)]\n",
    "y = price[days + 1 : end];\n",
    "w_price = X_price \\ y\n",
    "w_both = X_both \\ y\n",
    "w_all = X_all \\ y\n",
    ";"
   ]
  },
  {
   "cell_type": "code",
   "execution_count": 126,
   "metadata": {},
   "outputs": [
    {
     "data": {
      "text/html": [
       "<script src=\"C:\\Users\\jtapp\\.julia\\v0.6\\Plots\\src\\backends\\..\\..\\deps\\plotly-latest.min.js\"></script>    <div id=\"ef86db08-e4da-443d-8c95-0666e0a4d7f7\" style=\"width:600px;height:400px;\"></div>\n",
       "    <script>\n",
       "    PLOT = document.getElementById('ef86db08-e4da-443d-8c95-0666e0a4d7f7');\n",
       "    Plotly.plot(PLOT, [{\"showlegend\":true,\"mode\":\"lines\",\"xaxis\":\"x\",\"colorbar\":{\"title\":\"\"},\"line\":{\"color\":\"rgba(0, 154, 250, 1.000)\",\"shape\":\"linear\",\"dash\":\"solid\",\"width\":1},\"y\":[2898.18841667,2807.60985714,2751.82102857,2495.02858571,2781.63658333,2745.95541667,2710.41306667,2794.11771667,3218.11501667,3407.22683333,3357.32631667,3632.50666667,4125.54802,4217.02832857,4328.72571667,4222.66221429,4043.722,4174.95,4363.05445,4354.30833333,4607.98545],\"type\":\"scatter\",\"name\":\"True Price\",\"yaxis\":\"y\",\"x\":[1,2,3,4,5,6,7,8,9,10,11,12,13,14,15,16,17,18,19,20,21]},{\"showlegend\":true,\"mode\":\"lines\",\"xaxis\":\"x\",\"colorbar\":{\"title\":\"\"},\"line\":{\"color\":\"rgba(227, 111, 71, 1.000)\",\"shape\":\"linear\",\"dash\":\"solid\",\"width\":1},\"y\":[2660.112891788011,2876.2433223453572,2635.233252468602,2770.214246989201,2610.6555726141883,2854.9900963996306,2798.925628131841,2808.2253387932733,3059.3985010581646,3361.225757807377,3421.8486142884203,3360.507823816127,3784.767779318831,4249.902905425287,4205.676812533546,4394.525057677082,4216.071859611397,4052.4075029043597,4257.104628654614,4452.205132774958,4678.1600194661305],\"type\":\"scatter\",\"name\":\"Prediction_price\",\"yaxis\":\"y\",\"x\":[1,2,3,4,5,6,7,8,9,10,11,12,13,14,15,16,17,18,19,20,21]},{\"showlegend\":true,\"mode\":\"lines\",\"xaxis\":\"x\",\"colorbar\":{\"title\":\"\"},\"line\":{\"color\":\"rgba(62, 164, 78, 1.000)\",\"shape\":\"linear\",\"dash\":\"solid\",\"width\":1},\"y\":[2475.2229772473274,2884.6800619615624,2745.6984886918076,2761.28557224434,2534.3687410321163,2847.025692020127,2712.8080014868333,2874.7879012982776,2981.1472777994236,3247.5393499392408,3409.6734230155716,3303.48461692921,3769.3036533894833,4233.217982654428,4236.950875184348,4463.567654590271,4209.454224622222,4095.1037389007956,4230.947631449038,4446.638658587814,4528.233483019482],\"type\":\"scatter\",\"name\":\"Prediction_both\",\"yaxis\":\"y\",\"x\":[1,2,3,4,5,6,7,8,9,10,11,12,13,14,15,16,17,18,19,20,21]},{\"showlegend\":true,\"mode\":\"lines\",\"xaxis\":\"x\",\"colorbar\":{\"title\":\"\"},\"line\":{\"color\":\"rgba(195, 113, 210, 1.000)\",\"shape\":\"linear\",\"dash\":\"solid\",\"width\":1},\"y\":[2666.3510687154508,2873.9821622355507,2641.1017185622195,2770.8490711210366,2609.496120077133,2856.8191883818567,2794.9388514570605,2811.879815404984,3061.576118645375,3358.1551582495413,3422.294041409753,3361.65771496491,3783.351940563567,4251.39402970187,4202.549799968184,4389.828129237377,4217.257088854289,4054.272943095084,4259.924719554712,4451.050079874757,4672.846369381698],\"type\":\"scatter\",\"name\":\"Prediction_all\",\"yaxis\":\"y\",\"x\":[1,2,3,4,5,6,7,8,9,10,11,12,13,14,15,16,17,18,19,20,21]}], {\"showlegend\":true,\"xaxis\":{\"gridwidth\":0.5,\"tickvals\":[5.0,10.0,15.0,20.0],\"ticks\":\"inside\",\"tickmode\":\"array\",\"domain\":[0.09128390201224845,0.9934383202099738],\"linecolor\":\"rgba(0, 0, 0, 1.000)\",\"showgrid\":true,\"title\":\"Days\",\"tickangle\":0,\"gridcolor\":\"rgba(0, 0, 0, 0.100)\",\"titlefont\":{\"color\":\"rgba(0, 0, 0, 1.000)\",\"family\":\"sans-serif\",\"size\":15},\"tickcolor\":\"rgba(0, 0, 0, 1.000)\",\"ticktext\":[\"5\",\"10\",\"15\",\"20\"],\"zeroline\":false,\"type\":\"-\",\"tickfont\":{\"color\":\"rgba(0, 0, 0, 1.000)\",\"family\":\"sans-serif\",\"size\":11},\"anchor\":\"y\"},\"paper_bgcolor\":\"rgba(255, 255, 255, 1.000)\",\"annotations\":[{\"yanchor\":\"top\",\"xanchor\":\"center\",\"rotation\":-0.0,\"y\":1.0,\"font\":{\"color\":\"rgba(0, 0, 0, 1.000)\",\"family\":\"sans-serif\",\"size\":20},\"yref\":\"paper\",\"showarrow\":false,\"text\":\"Preliminary Linear Regression Model\",\"xref\":\"paper\",\"x\":0.5423611111111111}],\"height\":400,\"margin\":{\"l\":0,\"b\":20,\"r\":0,\"t\":20},\"plot_bgcolor\":\"rgba(255, 255, 255, 1.000)\",\"yaxis\":{\"gridwidth\":0.5,\"tickvals\":[2500.0,3000.0,3500.0,4000.0,4500.0],\"ticks\":\"inside\",\"tickmode\":\"array\",\"domain\":[0.07581474190726165,0.9415463692038496],\"linecolor\":\"rgba(0, 0, 0, 1.000)\",\"showgrid\":true,\"title\":\"Bitcoin Market Price in USD\",\"tickangle\":0,\"gridcolor\":\"rgba(0, 0, 0, 0.100)\",\"titlefont\":{\"color\":\"rgba(0, 0, 0, 1.000)\",\"family\":\"sans-serif\",\"size\":15},\"tickcolor\":\"rgba(0, 0, 0, 1.000)\",\"ticktext\":[\"2500\",\"3000\",\"3500\",\"4000\",\"4500\"],\"zeroline\":false,\"type\":\"-\",\"tickfont\":{\"color\":\"rgba(0, 0, 0, 1.000)\",\"family\":\"sans-serif\",\"size\":11},\"anchor\":\"x\"},\"legend\":{\"bordercolor\":\"rgba(0, 0, 0, 1.000)\",\"bgcolor\":\"rgba(255, 255, 255, 1.000)\",\"font\":{\"color\":\"rgba(0, 0, 0, 1.000)\",\"family\":\"sans-serif\",\"size\":11},\"y\":1.0,\"x\":1.0},\"width\":600});\n",
       "    </script>\n"
      ]
     },
     "execution_count": 126,
     "metadata": {},
     "output_type": "execute_result"
    }
   ],
   "source": [
    "plot_days = 20\n",
    "plot(y[end-plot_days:end], label=\"True Price\")\n",
    "plot!((X_price*w_price)[end-plot_days:end], label=\"Prediction_price\")\n",
    "plot!((X_both*w_both)[end-plot_days:end], label=\"Prediction_both\")\n",
    "plot!((X_all*w_all)[end-plot_days:end], label=\"Prediction_all\")\n",
    "plot!(title=\"Preliminary Linear Regression Model\", xlabel=\"Days\", ylabel=\"Bitcoin Market Price in USD\")"
   ]
  },
  {
   "cell_type": "code",
   "execution_count": 124,
   "metadata": {},
   "outputs": [
    {
     "name": "stdout",
     "output_type": "stream",
     "text": [
      "13.983283689128614\n",
      "15.05715155803845\n",
      "14.11513537245477\n"
     ]
    }
   ],
   "source": [
    "for (X, w) in ((X_price, w_price), (X_both, w_both), (X_all, w_all))\n",
    "    println(mean(abs.(y .- X*w)))\n",
    "end"
   ]
  },
  {
   "cell_type": "code",
   "execution_count": 105,
   "metadata": {},
   "outputs": [
    {
     "data": {
      "text/plain": [
       "(1581, 24)"
      ]
     },
     "execution_count": 105,
     "metadata": {},
     "output_type": "execute_result"
    }
   ],
   "source": [
    "size(data)"
   ]
  },
  {
   "cell_type": "code",
   "execution_count": null,
   "metadata": {
    "collapsed": true
   },
   "outputs": [],
   "source": []
  }
 ],
 "metadata": {
  "kernelspec": {
   "display_name": "Julia 0.6.0",
   "language": "julia",
   "name": "julia-0.6"
  },
  "language_info": {
   "file_extension": ".jl",
   "mimetype": "application/julia",
   "name": "julia",
   "version": "0.6.0"
  }
 },
 "nbformat": 4,
 "nbformat_minor": 2
}
